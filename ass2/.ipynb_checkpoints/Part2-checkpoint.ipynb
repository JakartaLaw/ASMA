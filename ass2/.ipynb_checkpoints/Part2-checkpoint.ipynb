{
 "cells": [
  {
   "cell_type": "code",
   "execution_count": 2,
   "metadata": {},
   "outputs": [],
   "source": [
    "import pandas as pd\n",
    "import numpy as np\n",
    "import matplotlib.pyplot as plt\n",
    "import seaborn as snb\n",
    "\n",
    "from modules.stock import Stock\n",
    "from modules.portfolio import Portfolio\n",
    "from modules.performance import Performance, CollectPerformance\n",
    "from modules.cleandata import CleanData\n",
    "from modules.portfolioregress import PortfolioRegress\n",
    "\n",
    "%matplotlib inline"
   ]
  },
  {
   "cell_type": "code",
   "execution_count": 11,
   "metadata": {
    "collapsed": true
   },
   "outputs": [],
   "source": [
    "stock = Stock()"
   ]
  },
  {
   "cell_type": "markdown",
   "metadata": {},
   "source": [
    "# Question 6"
   ]
  },
  {
   "cell_type": "code",
   "execution_count": 4,
   "metadata": {
    "collapsed": true
   },
   "outputs": [],
   "source": [
    "#Loading once more the returns and performance statistics for the high-low portfolio\n",
    "\n",
    "s, d = stock.portfolio(kpi='bmit', highlow='highlow', return_dummy=True)\n",
    "p = Portfolio.portfolio_return(s)\n",
    "perf = Performance(p, 12, d, sum_of_weights=2)\n",
    "p2 =perf.get_performance('bmit highlow')"
   ]
  },
  {
   "cell_type": "code",
   "execution_count": 5,
   "metadata": {
    "collapsed": true
   },
   "outputs": [],
   "source": [
    "#adjusting book-to-market data for industry\n",
    "\n",
    "stock.industry_adjusted_data('bmit')"
   ]
  },
  {
   "cell_type": "code",
   "execution_count": 6,
   "metadata": {
    "collapsed": true
   },
   "outputs": [],
   "source": [
    "#Loading once more the returns and performance statistics for the high-low industry adjusted portfolio\n",
    "\n",
    "s_i, d_i = stock.portfolio(kpi='adjusted_bmit', highlow='highlow', return_dummy=True)\n",
    "p_i = Portfolio.portfolio_return(s_i)\n",
    "perf_i = Performance(p_i, 12, d_i, sum_of_weights=2)\n",
    "p2_i = perf.get_performance('industry adjusted high/low')"
   ]
  },
  {
   "cell_type": "code",
   "execution_count": 18,
   "metadata": {},
   "outputs": [
    {
     "data": {
      "text/html": [
       "<div>\n",
       "<style scoped>\n",
       "    .dataframe tbody tr th:only-of-type {\n",
       "        vertical-align: middle;\n",
       "    }\n",
       "\n",
       "    .dataframe tbody tr th {\n",
       "        vertical-align: top;\n",
       "    }\n",
       "\n",
       "    .dataframe thead th {\n",
       "        text-align: right;\n",
       "    }\n",
       "</style>\n",
       "<table border=\"1\" class=\"dataframe\">\n",
       "  <thead>\n",
       "    <tr style=\"text-align: right;\">\n",
       "      <th></th>\n",
       "      <th>intercept</th>\n",
       "      <th>p_value</th>\n",
       "      <th>r_value</th>\n",
       "      <th>slope</th>\n",
       "      <th>std_error</th>\n",
       "    </tr>\n",
       "  </thead>\n",
       "  <tbody>\n",
       "    <tr>\n",
       "      <th>High-Low</th>\n",
       "      <td>0.019673</td>\n",
       "      <td>7.340137e-15</td>\n",
       "      <td>0.335242</td>\n",
       "      <td>0.035919</td>\n",
       "      <td>0.004479</td>\n",
       "    </tr>\n",
       "    <tr>\n",
       "      <th>High-Low ind. adjusted</th>\n",
       "      <td>0.021027</td>\n",
       "      <td>3.356933e-16</td>\n",
       "      <td>0.350646</td>\n",
       "      <td>0.026376</td>\n",
       "      <td>0.003126</td>\n",
       "    </tr>\n",
       "  </tbody>\n",
       "</table>\n",
       "</div>"
      ],
      "text/plain": [
       "                        intercept       p_value   r_value     slope  std_error\n",
       "High-Low                 0.019673  7.340137e-15  0.335242  0.035919   0.004479\n",
       "High-Low ind. adjusted   0.021027  3.356933e-16  0.350646  0.026376   0.003126"
      ]
     },
     "execution_count": 18,
     "metadata": {},
     "output_type": "execute_result"
    }
   ],
   "source": [
    "reg = PortfolioRegress.regressor_loop(p, p, index_name=\n",
    "                                'High-Low', standardize=True)\n",
    "reg_i = PortfolioRegress.regressor_loop(p_i, p_i, index_name=\n",
    "                                'High-Low ind. adjusted', standardize=True)\n",
    "\n",
    "q6_perf = CollectPerformance([reg, reg_i])\n",
    "q6_perf()"
   ]
  },
  {
   "cell_type": "markdown",
   "metadata": {},
   "source": [
    "# Question 7"
   ]
  },
  {
   "cell_type": "code",
   "execution_count": 19,
   "metadata": {},
   "outputs": [
    {
     "data": {
      "text/html": [
       "<div>\n",
       "<style scoped>\n",
       "    .dataframe tbody tr th:only-of-type {\n",
       "        vertical-align: middle;\n",
       "    }\n",
       "\n",
       "    .dataframe tbody tr th {\n",
       "        vertical-align: top;\n",
       "    }\n",
       "\n",
       "    .dataframe thead th {\n",
       "        text-align: right;\n",
       "    }\n",
       "</style>\n",
       "<table border=\"1\" class=\"dataframe\">\n",
       "  <thead>\n",
       "    <tr style=\"text-align: right;\">\n",
       "      <th></th>\n",
       "      <th>intercept</th>\n",
       "      <th>p_value</th>\n",
       "      <th>r_value</th>\n",
       "      <th>slope</th>\n",
       "      <th>std_error</th>\n",
       "    </tr>\n",
       "  </thead>\n",
       "  <tbody>\n",
       "    <tr>\n",
       "      <th>High-Low</th>\n",
       "      <td>0.037368</td>\n",
       "      <td>0.00005</td>\n",
       "      <td>-0.178652</td>\n",
       "      <td>-0.038401</td>\n",
       "      <td>0.009383</td>\n",
       "    </tr>\n",
       "    <tr>\n",
       "      <th>High-Low ind. adjusted</th>\n",
       "      <td>0.032419</td>\n",
       "      <td>0.00011</td>\n",
       "      <td>-0.170452</td>\n",
       "      <td>-0.025823</td>\n",
       "      <td>0.006623</td>\n",
       "    </tr>\n",
       "  </tbody>\n",
       "</table>\n",
       "</div>"
      ],
      "text/plain": [
       "                        intercept  p_value   r_value     slope  std_error\n",
       "High-Low                 0.037368  0.00005 -0.178652 -0.038401   0.009383\n",
       "High-Low ind. adjusted   0.032419  0.00011 -0.170452 -0.025823   0.006623"
      ]
     },
     "execution_count": 19,
     "metadata": {},
     "output_type": "execute_result"
    }
   ],
   "source": [
    "p_indicator = PortfolioRegress.indicator_func(p)\n",
    "reg_2 = PortfolioRegress.regressor_loop(p_indicator, p, index_name=\n",
    "                                'High-Low', lag_x=0)\n",
    "p_i_indicator = PortfolioRegress.indicator_func(p_i)\n",
    "reg_2_i = PortfolioRegress.regressor_loop(p_i_indicator, p_i, index_name=\n",
    "                                'High-Low ind. adjusted', lag_x=0)\n",
    "\n",
    "q7_perf = CollectPerformance([reg_2, reg_2_i])\n",
    "q7_perf()"
   ]
  },
  {
   "cell_type": "code",
   "execution_count": null,
   "metadata": {
    "collapsed": true
   },
   "outputs": [],
   "source": []
  }
 ],
 "metadata": {
  "kernelspec": {
   "display_name": "Python 3",
   "language": "python",
   "name": "python3"
  },
  "language_info": {
   "codemirror_mode": {
    "name": "ipython",
    "version": 3
   },
   "file_extension": ".py",
   "mimetype": "text/x-python",
   "name": "python",
   "nbconvert_exporter": "python",
   "pygments_lexer": "ipython3",
   "version": "3.6.3"
  }
 },
 "nbformat": 4,
 "nbformat_minor": 2
}
