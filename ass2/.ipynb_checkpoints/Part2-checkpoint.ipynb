{
 "cells": [
  {
   "cell_type": "code",
   "execution_count": 1,
   "metadata": {
    "collapsed": true
   },
   "outputs": [],
   "source": [
    "import pandas as pd\n",
    "import numpy as np\n",
    "import matplotlib.pyplot as plt\n",
    "import seaborn as snb\n",
    "\n",
    "from modules.stock import Stock\n",
    "from modules.portfolio import Portfolio\n",
    "from modules.performance import Performance, CollectPerformance\n",
    "from modules.cleandata import CleanData\n",
    "from modules.portfolioregress import PortfolioRegress\n",
    "\n",
    "%matplotlib inline"
   ]
  },
  {
   "cell_type": "code",
   "execution_count": 2,
   "metadata": {
    "collapsed": true
   },
   "outputs": [],
   "source": [
    "stock = Stock()"
   ]
  },
  {
   "cell_type": "markdown",
   "metadata": {},
   "source": [
    "# Question 6"
   ]
  },
  {
   "cell_type": "code",
   "execution_count": 3,
   "metadata": {
    "collapsed": true
   },
   "outputs": [],
   "source": [
    "#Loading once more the returns and performance statistics for the high-low portfolio\n",
    "\n",
    "s, d = stock.portfolio(kpi='bmit', highlow='highlow', return_dummy=True)\n",
    "p = Portfolio.portfolio_return(s, sum_of_weights=2)\n",
    "perf = Performance(p, 12, d)\n",
    "p2 =perf.get_performance('bmit highlow')"
   ]
  },
  {
   "cell_type": "code",
   "execution_count": 4,
   "metadata": {
    "collapsed": true
   },
   "outputs": [],
   "source": [
    "#adjusting book-to-market data for industry\n",
    "\n",
    "stock.industry_adjusted_data('bmit')"
   ]
  },
  {
   "cell_type": "code",
   "execution_count": 5,
   "metadata": {
    "collapsed": true
   },
   "outputs": [],
   "source": [
    "#Loading once more the returns and performance statistics for the high-low industry adjusted portfolio\n",
    "\n",
    "s_i, d_i = stock.portfolio(kpi='adjusted_bmit', highlow='highlow', return_dummy=True)\n",
    "p_i = Portfolio.portfolio_return(s_i, sum_of_weights=2)\n",
    "perf_i = Performance(p_i, 12, d_i)\n",
    "p2_i = perf.get_performance('industry adjusted high/low')"
   ]
  },
  {
   "cell_type": "code",
   "execution_count": 6,
   "metadata": {},
   "outputs": [
    {
     "data": {
      "text/html": [
       "<div>\n",
       "<style scoped>\n",
       "    .dataframe tbody tr th:only-of-type {\n",
       "        vertical-align: middle;\n",
       "    }\n",
       "\n",
       "    .dataframe tbody tr th {\n",
       "        vertical-align: top;\n",
       "    }\n",
       "\n",
       "    .dataframe thead th {\n",
       "        text-align: right;\n",
       "    }\n",
       "</style>\n",
       "<table border=\"1\" class=\"dataframe\">\n",
       "  <thead>\n",
       "    <tr style=\"text-align: right;\">\n",
       "      <th></th>\n",
       "      <th>intercept</th>\n",
       "      <th>p_value</th>\n",
       "      <th>r_value</th>\n",
       "      <th>slope</th>\n",
       "      <th>std_error</th>\n",
       "    </tr>\n",
       "  </thead>\n",
       "  <tbody>\n",
       "    <tr>\n",
       "      <th>High-Low</th>\n",
       "      <td>0.042763</td>\n",
       "      <td>1.404682e-16</td>\n",
       "      <td>0.354846</td>\n",
       "      <td>0.081220</td>\n",
       "      <td>0.009494</td>\n",
       "    </tr>\n",
       "    <tr>\n",
       "      <th>High-Low ind. adjusted</th>\n",
       "      <td>0.044587</td>\n",
       "      <td>6.859979e-17</td>\n",
       "      <td>0.358255</td>\n",
       "      <td>0.056498</td>\n",
       "      <td>0.006533</td>\n",
       "    </tr>\n",
       "  </tbody>\n",
       "</table>\n",
       "</div>"
      ],
      "text/plain": [
       "                        intercept       p_value   r_value     slope  std_error\n",
       "High-Low                 0.042763  1.404682e-16  0.354846  0.081220   0.009494\n",
       "High-Low ind. adjusted   0.044587  6.859979e-17  0.358255  0.056498   0.006533"
      ]
     },
     "execution_count": 6,
     "metadata": {},
     "output_type": "execute_result"
    }
   ],
   "source": [
    "reg = PortfolioRegress.regressor_loop(p, p, index_name=\n",
    "                                'High-Low', standardize=True)\n",
    "reg_i = PortfolioRegress.regressor_loop(p_i, p_i, index_name=\n",
    "                                'High-Low ind. adjusted', standardize=True)\n",
    "\n",
    "q6_perf = CollectPerformance([reg, reg_i])\n",
    "q6_perf()"
   ]
  },
  {
   "cell_type": "markdown",
   "metadata": {},
   "source": [
    "# Question 7"
   ]
  },
  {
   "cell_type": "code",
   "execution_count": 7,
   "metadata": {},
   "outputs": [
    {
     "data": {
      "text/html": [
       "<div>\n",
       "<style scoped>\n",
       "    .dataframe tbody tr th:only-of-type {\n",
       "        vertical-align: middle;\n",
       "    }\n",
       "\n",
       "    .dataframe tbody tr th {\n",
       "        vertical-align: top;\n",
       "    }\n",
       "\n",
       "    .dataframe thead th {\n",
       "        text-align: right;\n",
       "    }\n",
       "</style>\n",
       "<table border=\"1\" class=\"dataframe\">\n",
       "  <thead>\n",
       "    <tr style=\"text-align: right;\">\n",
       "      <th></th>\n",
       "      <th>intercept</th>\n",
       "      <th>p_value</th>\n",
       "      <th>r_value</th>\n",
       "      <th>slope</th>\n",
       "      <th>std_error</th>\n",
       "    </tr>\n",
       "  </thead>\n",
       "  <tbody>\n",
       "    <tr>\n",
       "      <th>High-Low</th>\n",
       "      <td>0.080636</td>\n",
       "      <td>0.000048</td>\n",
       "      <td>-0.178996</td>\n",
       "      <td>-0.082193</td>\n",
       "      <td>0.020044</td>\n",
       "    </tr>\n",
       "    <tr>\n",
       "      <th>High-Low ind. adjusted</th>\n",
       "      <td>0.068589</td>\n",
       "      <td>0.000101</td>\n",
       "      <td>-0.171295</td>\n",
       "      <td>-0.054406</td>\n",
       "      <td>0.013884</td>\n",
       "    </tr>\n",
       "  </tbody>\n",
       "</table>\n",
       "</div>"
      ],
      "text/plain": [
       "                        intercept   p_value   r_value     slope  std_error\n",
       "High-Low                 0.080636  0.000048 -0.178996 -0.082193   0.020044\n",
       "High-Low ind. adjusted   0.068589  0.000101 -0.171295 -0.054406   0.013884"
      ]
     },
     "execution_count": 7,
     "metadata": {},
     "output_type": "execute_result"
    }
   ],
   "source": [
    "p_indicator = PortfolioRegress.indicator_func(p)\n",
    "reg_2 = PortfolioRegress.regressor_loop(p_indicator, p, index_name=\n",
    "                                'High-Low', lag_x=0)\n",
    "p_i_indicator = PortfolioRegress.indicator_func(p_i)\n",
    "reg_2_i = PortfolioRegress.regressor_loop(p_i_indicator, p_i, index_name=\n",
    "                                'High-Low ind. adjusted', lag_x=0)\n",
    "\n",
    "q7_perf = CollectPerformance([reg_2, reg_2_i])\n",
    "q7_perf()"
   ]
  },
  {
   "cell_type": "code",
   "execution_count": null,
   "metadata": {
    "collapsed": true
   },
   "outputs": [],
   "source": []
  }
 ],
 "metadata": {
  "kernelspec": {
   "display_name": "Python 3",
   "language": "python",
   "name": "python3"
  },
  "language_info": {
   "codemirror_mode": {
    "name": "ipython",
    "version": 3
   },
   "file_extension": ".py",
   "mimetype": "text/x-python",
   "name": "python",
   "nbconvert_exporter": "python",
   "pygments_lexer": "ipython3",
   "version": "3.6.3"
  }
 },
 "nbformat": 4,
 "nbformat_minor": 2
}
