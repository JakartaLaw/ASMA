{
 "cells": [
  {
   "cell_type": "code",
   "execution_count": 50,
   "metadata": {},
   "outputs": [],
   "source": [
    "import pandas as pd\n",
    "import numpy as np\n",
    "import matplotlib.pyplot as plt\n",
    "import seaborn as sbn\n",
    "from sklearn.linear_model import LinearRegression\n",
    "\n",
    "from modules.stock import Stock\n",
    "from modules.portfolio import Portfolio\n",
    "from modules.performance import Performance, CollectPerformance\n",
    "from modules.cleandata import CleanData\n",
    "from modules.fourfactormodel import FourFactorModel\n",
    "from modules.fourfactorplotter import four_factor_plotter\n",
    "from modules.industryrotation import IndustryRotation\n",
    "\n",
    "\n",
    "%matplotlib inline "
   ]
  },
  {
   "cell_type": "markdown",
   "metadata": {},
   "source": [
    "# Question 8"
   ]
  },
  {
   "cell_type": "code",
   "execution_count": 18,
   "metadata": {},
   "outputs": [],
   "source": [
    "stock = IndustryRotation()"
   ]
  },
  {
   "cell_type": "code",
   "execution_count": 46,
   "metadata": {},
   "outputs": [],
   "source": [
    "s = stock.portfolio('bmit', highlow='highlow')\n",
    "pp = Portfolio.portfolio_return(s)\n",
    "perf = Performance(pp, 12, sum_of_weights=2)\n",
    "p1 = perf.get_performance('bmit rotation')"
   ]
  },
  {
   "cell_type": "code",
   "execution_count": 47,
   "metadata": {
    "collapsed": true
   },
   "outputs": [],
   "source": [
    "s = stock.portfolio('momit', highlow='highlow')\n",
    "p = Portfolio.portfolio_return(s)\n",
    "perf = Performance(p, 12, sum_of_weights=2)\n",
    "p2 = perf.get_performance('momit rotation')"
   ]
  },
  {
   "cell_type": "code",
   "execution_count": 48,
   "metadata": {},
   "outputs": [
    {
     "data": {
      "text/html": [
       "<div>\n",
       "<style scoped>\n",
       "    .dataframe tbody tr th:only-of-type {\n",
       "        vertical-align: middle;\n",
       "    }\n",
       "\n",
       "    .dataframe tbody tr th {\n",
       "        vertical-align: top;\n",
       "    }\n",
       "\n",
       "    .dataframe thead th {\n",
       "        text-align: right;\n",
       "    }\n",
       "</style>\n",
       "<table border=\"1\" class=\"dataframe\">\n",
       "  <thead>\n",
       "    <tr style=\"text-align: right;\">\n",
       "      <th></th>\n",
       "      <th>avg return</th>\n",
       "      <th>sharpe ratio</th>\n",
       "      <th>std. deviation</th>\n",
       "      <th>t-stat</th>\n",
       "    </tr>\n",
       "    <tr>\n",
       "      <th>index_name</th>\n",
       "      <th></th>\n",
       "      <th></th>\n",
       "      <th></th>\n",
       "      <th></th>\n",
       "    </tr>\n",
       "  </thead>\n",
       "  <tbody>\n",
       "    <tr>\n",
       "      <th>bmit rotation</th>\n",
       "      <td>0.006601</td>\n",
       "      <td>0.047473</td>\n",
       "      <td>0.139050</td>\n",
       "      <td>1.084640</td>\n",
       "    </tr>\n",
       "    <tr>\n",
       "      <th>momit rotation</th>\n",
       "      <td>0.050160</td>\n",
       "      <td>0.272946</td>\n",
       "      <td>0.183772</td>\n",
       "      <td>6.236091</td>\n",
       "    </tr>\n",
       "  </tbody>\n",
       "</table>\n",
       "</div>"
      ],
      "text/plain": [
       "                avg return  sharpe ratio  std. deviation    t-stat\n",
       "index_name                                                        \n",
       "bmit rotation     0.006601      0.047473        0.139050  1.084640\n",
       "momit rotation    0.050160      0.272946        0.183772  6.236091"
      ]
     },
     "execution_count": 48,
     "metadata": {},
     "output_type": "execute_result"
    }
   ],
   "source": [
    "q8_perf = CollectPerformance([p1, p2])\n",
    "q8_perf()"
   ]
  },
  {
   "cell_type": "code",
   "execution_count": null,
   "metadata": {
    "collapsed": true
   },
   "outputs": [],
   "source": []
  }
 ],
 "metadata": {
  "kernelspec": {
   "display_name": "Python 3",
   "language": "python",
   "name": "python3"
  },
  "language_info": {
   "codemirror_mode": {
    "name": "ipython",
    "version": 3
   },
   "file_extension": ".py",
   "mimetype": "text/x-python",
   "name": "python",
   "nbconvert_exporter": "python",
   "pygments_lexer": "ipython3",
   "version": "3.6.3"
  }
 },
 "nbformat": 4,
 "nbformat_minor": 2
}
