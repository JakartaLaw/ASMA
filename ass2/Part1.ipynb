{
 "cells": [
  {
   "cell_type": "markdown",
   "metadata": {},
   "source": [
    "# Part 1 - Assignment 2"
   ]
  },
  {
   "cell_type": "code",
   "execution_count": 1,
   "metadata": {},
   "outputs": [],
   "source": [
    "import pandas as pd\n",
    "import numpy as np\n",
    "import matplotlib.pyplot as plt\n",
    "import seaborn as sbn\n",
    "from sklearn.linear_model import LinearRegression\n",
    "\n",
    "from modules.stock import Stock\n",
    "from modules.portfolio import Portfolio\n",
    "from modules.performance import Performance, CollectPerformance\n",
    "from modules.cleandata import CleanData\n",
    "from modules.fourfactormodel import FourFactorModel\n",
    "\n",
    "%matplotlib inline "
   ]
  },
  {
   "cell_type": "markdown",
   "metadata": {},
   "source": [
    "# Preparation"
   ]
  },
  {
   "cell_type": "code",
   "execution_count": 2,
   "metadata": {
    "collapsed": true
   },
   "outputs": [],
   "source": [
    "stock = Stock()"
   ]
  },
  {
   "cell_type": "markdown",
   "metadata": {},
   "source": [
    "# Question 1.1 - 1.2"
   ]
  },
  {
   "cell_type": "markdown",
   "metadata": {},
   "source": [
    "### bmit"
   ]
  },
  {
   "cell_type": "code",
   "execution_count": 3,
   "metadata": {},
   "outputs": [],
   "source": [
    "s, d = stock.portfolio(kpi='bmit', highlow='high', return_dummy=True)\n",
    "p = Portfolio.portfolio_return(s)\n",
    "perf = Performance(p, 12, d)\n",
    "p0 = perf.get_performance('bmit high')"
   ]
  },
  {
   "cell_type": "code",
   "execution_count": 4,
   "metadata": {},
   "outputs": [],
   "source": [
    "s, d = stock.portfolio(kpi='bmit', highlow='low', return_dummy=True)\n",
    "p = Portfolio.portfolio_return(s)\n",
    "perf = Performance(p, 12, d)\n",
    "p1 = perf.get_performance('bmit low')"
   ]
  },
  {
   "cell_type": "code",
   "execution_count": 5,
   "metadata": {},
   "outputs": [],
   "source": [
    "s, d = stock.portfolio(kpi='bmit', highlow='highlow', return_dummy=True)\n",
    "p = Portfolio.portfolio_return(s)\n",
    "perf = Performance(p, 12, d)\n",
    "p2 =perf.get_performance('bmit highlow')"
   ]
  },
  {
   "cell_type": "markdown",
   "metadata": {},
   "source": [
    "### momit"
   ]
  },
  {
   "cell_type": "code",
   "execution_count": 6,
   "metadata": {},
   "outputs": [],
   "source": [
    "s, d = stock.portfolio(kpi='momit', highlow='high', return_dummy=True)\n",
    "p = Portfolio.portfolio_return(s)\n",
    "perf = Performance(p, 12, d)\n",
    "p3 = perf.get_performance('momit high')"
   ]
  },
  {
   "cell_type": "code",
   "execution_count": 7,
   "metadata": {},
   "outputs": [],
   "source": [
    "s, d = stock.portfolio(kpi='momit', highlow='low', return_dummy=True)\n",
    "p = Portfolio.portfolio_return(s)\n",
    "perf = Performance(p, 12, d)\n",
    "p4 = perf.get_performance('momit low')"
   ]
  },
  {
   "cell_type": "code",
   "execution_count": 8,
   "metadata": {},
   "outputs": [],
   "source": [
    "s, d = stock.portfolio(kpi='momit', highlow='highlow', return_dummy=True)\n",
    "p = Portfolio.portfolio_return(s)\n",
    "perf = Performance(p, 12, d)\n",
    "p5 = perf.get_performance('momit high/low')"
   ]
  },
  {
   "cell_type": "code",
   "execution_count": 9,
   "metadata": {},
   "outputs": [
    {
     "data": {
      "text/html": [
       "<div>\n",
       "<style scoped>\n",
       "    .dataframe tbody tr th:only-of-type {\n",
       "        vertical-align: middle;\n",
       "    }\n",
       "\n",
       "    .dataframe tbody tr th {\n",
       "        vertical-align: top;\n",
       "    }\n",
       "\n",
       "    .dataframe thead th {\n",
       "        text-align: right;\n",
       "    }\n",
       "</style>\n",
       "<table border=\"1\" class=\"dataframe\">\n",
       "  <thead>\n",
       "    <tr style=\"text-align: right;\">\n",
       "      <th></th>\n",
       "      <th>avg months for stock</th>\n",
       "      <th>avg return</th>\n",
       "      <th>sharpe ratio</th>\n",
       "      <th>std. deviation</th>\n",
       "      <th>t-stat</th>\n",
       "    </tr>\n",
       "    <tr>\n",
       "      <th>index_name</th>\n",
       "      <th></th>\n",
       "      <th></th>\n",
       "      <th></th>\n",
       "      <th></th>\n",
       "      <th></th>\n",
       "    </tr>\n",
       "  </thead>\n",
       "  <tbody>\n",
       "    <tr>\n",
       "      <th>bmit high</th>\n",
       "      <td>24.552786</td>\n",
       "      <td>0.085271</td>\n",
       "      <td>0.519232</td>\n",
       "      <td>0.164225</td>\n",
       "      <td>11.863051</td>\n",
       "    </tr>\n",
       "    <tr>\n",
       "      <th>bmit low</th>\n",
       "      <td>24.552786</td>\n",
       "      <td>0.054189</td>\n",
       "      <td>0.265777</td>\n",
       "      <td>0.203888</td>\n",
       "      <td>6.072289</td>\n",
       "    </tr>\n",
       "    <tr>\n",
       "      <th>bmit highlow</th>\n",
       "      <td>49.105572</td>\n",
       "      <td>0.015541</td>\n",
       "      <td>0.180977</td>\n",
       "      <td>0.085873</td>\n",
       "      <td>4.134848</td>\n",
       "    </tr>\n",
       "    <tr>\n",
       "      <th>momit high</th>\n",
       "      <td>24.552786</td>\n",
       "      <td>0.098987</td>\n",
       "      <td>0.495019</td>\n",
       "      <td>0.199966</td>\n",
       "      <td>11.309850</td>\n",
       "    </tr>\n",
       "    <tr>\n",
       "      <th>momit low</th>\n",
       "      <td>24.552786</td>\n",
       "      <td>0.049807</td>\n",
       "      <td>0.236453</td>\n",
       "      <td>0.210641</td>\n",
       "      <td>5.402317</td>\n",
       "    </tr>\n",
       "    <tr>\n",
       "      <th>momit high/low</th>\n",
       "      <td>49.105572</td>\n",
       "      <td>0.024590</td>\n",
       "      <td>0.243627</td>\n",
       "      <td>0.100933</td>\n",
       "      <td>5.566228</td>\n",
       "    </tr>\n",
       "  </tbody>\n",
       "</table>\n",
       "</div>"
      ],
      "text/plain": [
       "                avg months for stock  avg return  sharpe ratio  \\\n",
       "index_name                                                       \n",
       "bmit high                  24.552786    0.085271      0.519232   \n",
       "bmit low                   24.552786    0.054189      0.265777   \n",
       "bmit highlow               49.105572    0.015541      0.180977   \n",
       "momit high                 24.552786    0.098987      0.495019   \n",
       "momit low                  24.552786    0.049807      0.236453   \n",
       "momit high/low             49.105572    0.024590      0.243627   \n",
       "\n",
       "                std. deviation     t-stat  \n",
       "index_name                                 \n",
       "bmit high             0.164225  11.863051  \n",
       "bmit low              0.203888   6.072289  \n",
       "bmit highlow          0.085873   4.134848  \n",
       "momit high            0.199966  11.309850  \n",
       "momit low             0.210641   5.402317  \n",
       "momit high/low        0.100933   5.566228  "
      ]
     },
     "execution_count": 9,
     "metadata": {},
     "output_type": "execute_result"
    }
   ],
   "source": [
    "q1_perf = CollectPerformance([p0, p1, p2, p3, p4, p5])\n",
    "q1_perf()"
   ]
  },
  {
   "cell_type": "markdown",
   "metadata": {},
   "source": [
    "# Question 1.3"
   ]
  },
  {
   "cell_type": "code",
   "execution_count": 10,
   "metadata": {
    "collapsed": true
   },
   "outputs": [],
   "source": [
    "stock.composite_data('bmit', 'momit')"
   ]
  },
  {
   "cell_type": "code",
   "execution_count": 11,
   "metadata": {},
   "outputs": [],
   "source": [
    "s, d = stock.portfolio(kpi='bmit_momit', highlow='high', return_dummy=True)\n",
    "p = Portfolio.portfolio_return(s)\n",
    "perf = Performance(p, 12, d)\n",
    "p0 = perf.get_performance('composite high')"
   ]
  },
  {
   "cell_type": "code",
   "execution_count": 12,
   "metadata": {},
   "outputs": [],
   "source": [
    "s, d = stock.portfolio(kpi='bmit_momit', highlow='low', return_dummy=True)\n",
    "p = Portfolio.portfolio_return(s)\n",
    "perf = Performance(p, 12, d)\n",
    "p1 = perf.get_performance('composite low')"
   ]
  },
  {
   "cell_type": "code",
   "execution_count": 13,
   "metadata": {},
   "outputs": [],
   "source": [
    "s, d = stock.portfolio(kpi='bmit_momit', highlow='highlow', return_dummy=True)\n",
    "p = Portfolio.portfolio_return(s)\n",
    "perf = Performance(p, 12, d)\n",
    "p2 = perf.get_performance('composite high/low')"
   ]
  },
  {
   "cell_type": "code",
   "execution_count": 14,
   "metadata": {},
   "outputs": [
    {
     "data": {
      "text/html": [
       "<div>\n",
       "<style scoped>\n",
       "    .dataframe tbody tr th:only-of-type {\n",
       "        vertical-align: middle;\n",
       "    }\n",
       "\n",
       "    .dataframe tbody tr th {\n",
       "        vertical-align: top;\n",
       "    }\n",
       "\n",
       "    .dataframe thead th {\n",
       "        text-align: right;\n",
       "    }\n",
       "</style>\n",
       "<table border=\"1\" class=\"dataframe\">\n",
       "  <thead>\n",
       "    <tr style=\"text-align: right;\">\n",
       "      <th></th>\n",
       "      <th>avg months for stock</th>\n",
       "      <th>avg return</th>\n",
       "      <th>sharpe ratio</th>\n",
       "      <th>std. deviation</th>\n",
       "      <th>t-stat</th>\n",
       "    </tr>\n",
       "    <tr>\n",
       "      <th>index_name</th>\n",
       "      <th></th>\n",
       "      <th></th>\n",
       "      <th></th>\n",
       "      <th></th>\n",
       "      <th></th>\n",
       "    </tr>\n",
       "  </thead>\n",
       "  <tbody>\n",
       "    <tr>\n",
       "      <th>composite high</th>\n",
       "      <td>24.552786</td>\n",
       "      <td>0.089310</td>\n",
       "      <td>0.556989</td>\n",
       "      <td>0.160345</td>\n",
       "      <td>12.725694</td>\n",
       "    </tr>\n",
       "    <tr>\n",
       "      <th>composite low</th>\n",
       "      <td>24.552786</td>\n",
       "      <td>0.033185</td>\n",
       "      <td>0.164571</td>\n",
       "      <td>0.201643</td>\n",
       "      <td>3.760016</td>\n",
       "    </tr>\n",
       "    <tr>\n",
       "      <th>composite high/low</th>\n",
       "      <td>49.105572</td>\n",
       "      <td>0.028063</td>\n",
       "      <td>0.409929</td>\n",
       "      <td>0.068458</td>\n",
       "      <td>9.365785</td>\n",
       "    </tr>\n",
       "  </tbody>\n",
       "</table>\n",
       "</div>"
      ],
      "text/plain": [
       "                    avg months for stock  avg return  sharpe ratio  \\\n",
       "index_name                                                           \n",
       "composite high                 24.552786    0.089310      0.556989   \n",
       "composite low                  24.552786    0.033185      0.164571   \n",
       "composite high/low             49.105572    0.028063      0.409929   \n",
       "\n",
       "                    std. deviation     t-stat  \n",
       "index_name                                     \n",
       "composite high            0.160345  12.725694  \n",
       "composite low             0.201643   3.760016  \n",
       "composite high/low        0.068458   9.365785  "
      ]
     },
     "execution_count": 14,
     "metadata": {},
     "output_type": "execute_result"
    }
   ],
   "source": [
    "q3_perf = CollectPerformance([p0, p1, p2])\n",
    "q3_perf()"
   ]
  },
  {
   "cell_type": "markdown",
   "metadata": {},
   "source": [
    "# Question 1.4"
   ]
  },
  {
   "cell_type": "code",
   "execution_count": 15,
   "metadata": {},
   "outputs": [],
   "source": [
    "stock.industry_adjusted_data('bmit')\n",
    "stock.industry_adjusted_data('momit')\n",
    "stock.composite_data('adjusted_bmit', 'adjusted_momit')"
   ]
  },
  {
   "cell_type": "code",
   "execution_count": 16,
   "metadata": {},
   "outputs": [],
   "source": [
    "s, d = stock.portfolio(kpi='adjusted_bmit_adjusted_momit', highlow='high', return_dummy=True)\n",
    "p = Portfolio.portfolio_return(s)\n",
    "perf = Performance(p, 12, d)\n",
    "p0 = perf.get_performance('composite adjusted high')"
   ]
  },
  {
   "cell_type": "code",
   "execution_count": 17,
   "metadata": {},
   "outputs": [],
   "source": [
    "s, d = stock.portfolio(kpi='adjusted_bmit_adjusted_momit', highlow='low', return_dummy=True)\n",
    "p = Portfolio.portfolio_return(s)\n",
    "perf = Performance(p, 12, d)\n",
    "p1 = perf.get_performance('composite adjusted low')"
   ]
  },
  {
   "cell_type": "code",
   "execution_count": 18,
   "metadata": {},
   "outputs": [],
   "source": [
    "s, d = stock.portfolio(kpi='adjusted_bmit_adjusted_momit', highlow='highlow', return_dummy=True)\n",
    "p = Portfolio.portfolio_return(s)\n",
    "perf = Performance(p, 12, d)\n",
    "p2 = perf.get_performance('composite adjusted high/low')"
   ]
  },
  {
   "cell_type": "code",
   "execution_count": 19,
   "metadata": {},
   "outputs": [
    {
     "data": {
      "text/html": [
       "<div>\n",
       "<style scoped>\n",
       "    .dataframe tbody tr th:only-of-type {\n",
       "        vertical-align: middle;\n",
       "    }\n",
       "\n",
       "    .dataframe tbody tr th {\n",
       "        vertical-align: top;\n",
       "    }\n",
       "\n",
       "    .dataframe thead th {\n",
       "        text-align: right;\n",
       "    }\n",
       "</style>\n",
       "<table border=\"1\" class=\"dataframe\">\n",
       "  <thead>\n",
       "    <tr style=\"text-align: right;\">\n",
       "      <th></th>\n",
       "      <th>avg months for stock</th>\n",
       "      <th>avg return</th>\n",
       "      <th>sharpe ratio</th>\n",
       "      <th>std. deviation</th>\n",
       "      <th>t-stat</th>\n",
       "    </tr>\n",
       "    <tr>\n",
       "      <th>index_name</th>\n",
       "      <th></th>\n",
       "      <th></th>\n",
       "      <th></th>\n",
       "      <th></th>\n",
       "      <th></th>\n",
       "    </tr>\n",
       "  </thead>\n",
       "  <tbody>\n",
       "    <tr>\n",
       "      <th>composite adjusted high</th>\n",
       "      <td>24.552786</td>\n",
       "      <td>0.099110</td>\n",
       "      <td>0.586594</td>\n",
       "      <td>0.168959</td>\n",
       "      <td>13.402109</td>\n",
       "    </tr>\n",
       "    <tr>\n",
       "      <th>composite adjusted low</th>\n",
       "      <td>24.552786</td>\n",
       "      <td>0.045012</td>\n",
       "      <td>0.235327</td>\n",
       "      <td>0.191274</td>\n",
       "      <td>5.376589</td>\n",
       "    </tr>\n",
       "    <tr>\n",
       "      <th>composite adjusted high/low</th>\n",
       "      <td>49.105572</td>\n",
       "      <td>0.027049</td>\n",
       "      <td>0.576088</td>\n",
       "      <td>0.046953</td>\n",
       "      <td>13.162071</td>\n",
       "    </tr>\n",
       "  </tbody>\n",
       "</table>\n",
       "</div>"
      ],
      "text/plain": [
       "                             avg months for stock  avg return  sharpe ratio  \\\n",
       "index_name                                                                    \n",
       "composite adjusted high                 24.552786    0.099110      0.586594   \n",
       "composite adjusted low                  24.552786    0.045012      0.235327   \n",
       "composite adjusted high/low             49.105572    0.027049      0.576088   \n",
       "\n",
       "                             std. deviation     t-stat  \n",
       "index_name                                              \n",
       "composite adjusted high            0.168959  13.402109  \n",
       "composite adjusted low             0.191274   5.376589  \n",
       "composite adjusted high/low        0.046953  13.162071  "
      ]
     },
     "execution_count": 19,
     "metadata": {},
     "output_type": "execute_result"
    }
   ],
   "source": [
    "q3_perf = CollectPerformance([p0, p1, p2])\n",
    "q3_perf()"
   ]
  },
  {
   "cell_type": "markdown",
   "metadata": {},
   "source": [
    "# Question 1.5"
   ]
  },
  {
   "cell_type": "markdown",
   "metadata": {},
   "source": [
    "### Four Factor Model"
   ]
  },
  {
   "cell_type": "code",
   "execution_count": 43,
   "metadata": {
    "collapsed": true
   },
   "outputs": [],
   "source": [
    "s, d = stock.portfolio(kpi='bmit', highlow='highlow', return_dummy=True)\n",
    "p = Portfolio.portfolio_return(s)\n",
    "t = FourFactorModel(stock, p)"
   ]
  },
  {
   "cell_type": "code",
   "execution_count": 58,
   "metadata": {},
   "outputs": [
    {
     "data": {
      "text/html": [
       "<div>\n",
       "<style scoped>\n",
       "    .dataframe tbody tr th:only-of-type {\n",
       "        vertical-align: middle;\n",
       "    }\n",
       "\n",
       "    .dataframe tbody tr th {\n",
       "        vertical-align: top;\n",
       "    }\n",
       "\n",
       "    .dataframe thead th {\n",
       "        text-align: right;\n",
       "    }\n",
       "</style>\n",
       "<table border=\"1\" class=\"dataframe\">\n",
       "  <thead>\n",
       "    <tr style=\"text-align: right;\">\n",
       "      <th></th>\n",
       "      <th>HML</th>\n",
       "      <th>MKT</th>\n",
       "      <th>SMB</th>\n",
       "      <th>WML</th>\n",
       "      <th>intercept</th>\n",
       "      <th>r2</th>\n",
       "    </tr>\n",
       "  </thead>\n",
       "  <tbody>\n",
       "    <tr>\n",
       "      <th>BMIT</th>\n",
       "      <td>0.335481</td>\n",
       "      <td>-0.022651</td>\n",
       "      <td>0.058716</td>\n",
       "      <td>0.309474</td>\n",
       "      <td>-0.001034</td>\n",
       "      <td>0.635355</td>\n",
       "    </tr>\n",
       "  </tbody>\n",
       "</table>\n",
       "</div>"
      ],
      "text/plain": [
       "           HML       MKT       SMB       WML  intercept        r2\n",
       "BMIT  0.335481 -0.022651  0.058716  0.309474  -0.001034  0.635355"
      ]
     },
     "execution_count": 58,
     "metadata": {},
     "output_type": "execute_result"
    }
   ],
   "source": [
    "t.regress_model(model_name = 'BMIT')\n",
    "res = t.get_results()\n",
    "pred = t.get_prediction()\n",
    "#t.results_to_latex('res_q5')\n",
    "res"
   ]
  },
  {
   "cell_type": "code",
   "execution_count": 49,
   "metadata": {},
   "outputs": [
    {
     "data": {
      "image/png": "[encoded data removed]",
      "text/plain": [
       "<matplotlib.figure.Figure at 0x1a102a4a58>"
      ]
     },
     "metadata": {},
     "output_type": "display_data"
    }
   ],
   "source": [
    "sbn_plot = sbn.lmplot('actual','prediction',data=pred, scatter_kws={'alpha':0.3, 'color':'red'})\n",
    "#sbn_plot.save_fig('')"
   ]
  },
  {
   "cell_type": "code",
   "execution_count": 50,
   "metadata": {
    "collapsed": true
   },
   "outputs": [],
   "source": [
    "s, d = stock.portfolio(kpi='momit', highlow='highlow', return_dummy=True)\n",
    "p = Portfolio.portfolio_return(s)\n",
    "t = FourFactorModel(stock, p)"
   ]
  },
  {
   "cell_type": "code",
   "execution_count": 51,
   "metadata": {},
   "outputs": [
    {
     "data": {
      "text/html": [
       "<div>\n",
       "<style scoped>\n",
       "    .dataframe tbody tr th:only-of-type {\n",
       "        vertical-align: middle;\n",
       "    }\n",
       "\n",
       "    .dataframe tbody tr th {\n",
       "        vertical-align: top;\n",
       "    }\n",
       "\n",
       "    .dataframe thead th {\n",
       "        text-align: right;\n",
       "    }\n",
       "</style>\n",
       "<table border=\"1\" class=\"dataframe\">\n",
       "  <thead>\n",
       "    <tr style=\"text-align: right;\">\n",
       "      <th></th>\n",
       "      <th>HML</th>\n",
       "      <th>MKT</th>\n",
       "      <th>SMB</th>\n",
       "      <th>WML</th>\n",
       "      <th>intercept</th>\n",
       "      <th>r2</th>\n",
       "    </tr>\n",
       "  </thead>\n",
       "  <tbody>\n",
       "    <tr>\n",
       "      <th>MOMIT</th>\n",
       "      <td>-0.076046</td>\n",
       "      <td>-0.010208</td>\n",
       "      <td>0.139771</td>\n",
       "      <td>0.572363</td>\n",
       "      <td>-0.001892</td>\n",
       "      <td>0.809781</td>\n",
       "    </tr>\n",
       "  </tbody>\n",
       "</table>\n",
       "</div>"
      ],
      "text/plain": [
       "            HML       MKT       SMB       WML  intercept        r2\n",
       "MOMIT -0.076046 -0.010208  0.139771  0.572363  -0.001892  0.809781"
      ]
     },
     "execution_count": 51,
     "metadata": {},
     "output_type": "execute_result"
    }
   ],
   "source": [
    "t.regress_model(model_name = 'MOMIT')\n",
    "res = t.get_results()\n",
    "pred = t.get_prediction()\n",
    "#t.results_to_latex('res_q5')\n",
    "res"
   ]
  },
  {
   "cell_type": "code",
   "execution_count": 52,
   "metadata": {},
   "outputs": [
    {
     "data": {
      "image/png": "[encoded data removed]",
      "text/plain": [
       "<matplotlib.figure.Figure at 0x1a10704208>"
      ]
     },
     "metadata": {},
     "output_type": "display_data"
    }
   ],
   "source": [
    "sbn_plot = sbn.lmplot('actual','prediction',data=pred, scatter_kws={'alpha':0.3, 'color':'red'})\n",
    "#sbn_plot.save_fig('')"
   ]
  },
  {
   "cell_type": "code",
   "execution_count": 53,
   "metadata": {
    "collapsed": true
   },
   "outputs": [],
   "source": [
    "s, d = stock.portfolio(kpi='bmit_momit', highlow='highlow', return_dummy=True)\n",
    "p = Portfolio.portfolio_return(s)\n",
    "t = FourFactorModel(stock, p)"
   ]
  },
  {
   "cell_type": "code",
   "execution_count": 57,
   "metadata": {},
   "outputs": [
    {
     "data": {
      "text/html": [
       "<div>\n",
       "<style scoped>\n",
       "    .dataframe tbody tr th:only-of-type {\n",
       "        vertical-align: middle;\n",
       "    }\n",
       "\n",
       "    .dataframe tbody tr th {\n",
       "        vertical-align: top;\n",
       "    }\n",
       "\n",
       "    .dataframe thead th {\n",
       "        text-align: right;\n",
       "    }\n",
       "</style>\n",
       "<table border=\"1\" class=\"dataframe\">\n",
       "  <thead>\n",
       "    <tr style=\"text-align: right;\">\n",
       "      <th></th>\n",
       "      <th>HML</th>\n",
       "      <th>MKT</th>\n",
       "      <th>SMB</th>\n",
       "      <th>WML</th>\n",
       "      <th>intercept</th>\n",
       "      <th>r2</th>\n",
       "    </tr>\n",
       "  </thead>\n",
       "  <tbody>\n",
       "    <tr>\n",
       "      <th>BMIT_MOMIT</th>\n",
       "      <td>0.335481</td>\n",
       "      <td>-0.022651</td>\n",
       "      <td>0.058716</td>\n",
       "      <td>0.309474</td>\n",
       "      <td>-0.001034</td>\n",
       "      <td>0.635355</td>\n",
       "    </tr>\n",
       "  </tbody>\n",
       "</table>\n",
       "</div>"
      ],
      "text/plain": [
       "                 HML       MKT       SMB       WML  intercept        r2\n",
       "BMIT_MOMIT  0.335481 -0.022651  0.058716  0.309474  -0.001034  0.635355"
      ]
     },
     "execution_count": 57,
     "metadata": {},
     "output_type": "execute_result"
    }
   ],
   "source": [
    "t.regress_model(model_name = 'BMIT_MOMIT')\n",
    "res = t.get_results()\n",
    "pred = t.get_prediction()\n",
    "#t.results_to_latex('res_q5')\n",
    "res"
   ]
  },
  {
   "cell_type": "code",
   "execution_count": 56,
   "metadata": {},
   "outputs": [
    {
     "data": {
      "image/png": "[encoded data removed]",
      "text/plain": [
       "<matplotlib.figure.Figure at 0x1a1bf20eb8>"
      ]
     },
     "metadata": {},
     "output_type": "display_data"
    }
   ],
   "source": [
    "sbn_plot = sbn.lmplot('actual','prediction',data=pred, scatter_kws={'alpha':0.3, 'color':'red'})\n",
    "#sbn_plot.save_fig('')"
   ]
  },
  {
   "cell_type": "code",
   "execution_count": 59,
   "metadata": {
    "collapsed": true
   },
   "outputs": [],
   "source": [
    "s, d = stock.portfolio(kpi='adjusted_bmit_adjusted_momit', highlow='highlow', return_dummy=True)\n",
    "p = Portfolio.portfolio_return(s)\n",
    "t = FourFactorModel(stock, p)"
   ]
  },
  {
   "cell_type": "code",
   "execution_count": 60,
   "metadata": {},
   "outputs": [
    {
     "data": {
      "text/html": [
       "<div>\n",
       "<style scoped>\n",
       "    .dataframe tbody tr th:only-of-type {\n",
       "        vertical-align: middle;\n",
       "    }\n",
       "\n",
       "    .dataframe tbody tr th {\n",
       "        vertical-align: top;\n",
       "    }\n",
       "\n",
       "    .dataframe thead th {\n",
       "        text-align: right;\n",
       "    }\n",
       "</style>\n",
       "<table border=\"1\" class=\"dataframe\">\n",
       "  <thead>\n",
       "    <tr style=\"text-align: right;\">\n",
       "      <th></th>\n",
       "      <th>HML</th>\n",
       "      <th>MKT</th>\n",
       "      <th>SMB</th>\n",
       "      <th>WML</th>\n",
       "      <th>intercept</th>\n",
       "      <th>r2</th>\n",
       "    </tr>\n",
       "  </thead>\n",
       "  <tbody>\n",
       "    <tr>\n",
       "      <th>BMIT_MOMIT</th>\n",
       "      <td>0.169831</td>\n",
       "      <td>-0.017657</td>\n",
       "      <td>0.065336</td>\n",
       "      <td>0.209426</td>\n",
       "      <td>0.000144</td>\n",
       "      <td>0.54364</td>\n",
       "    </tr>\n",
       "  </tbody>\n",
       "</table>\n",
       "</div>"
      ],
      "text/plain": [
       "                 HML       MKT       SMB       WML  intercept       r2\n",
       "BMIT_MOMIT  0.169831 -0.017657  0.065336  0.209426   0.000144  0.54364"
      ]
     },
     "execution_count": 60,
     "metadata": {},
     "output_type": "execute_result"
    }
   ],
   "source": [
    "t.regress_model(model_name = 'BMIT_MOMIT')\n",
    "res = t.get_results()\n",
    "pred = t.get_prediction()\n",
    "#t.results_to_latex('res_q5')\n",
    "res"
   ]
  },
  {
   "cell_type": "code",
   "execution_count": 61,
   "metadata": {},
   "outputs": [
    {
     "data": {
      "image/png": "[encoded data removed]",
      "text/plain": [
       "<matplotlib.figure.Figure at 0x1a1b705780>"
      ]
     },
     "metadata": {},
     "output_type": "display_data"
    }
   ],
   "source": [
    "sbn_plot = sbn.lmplot('actual','prediction',data=pred, scatter_kws={'alpha':0.3, 'color':'red'})\n",
    "#sbn_plot.save_fig('')"
   ]
  },
  {
   "cell_type": "code",
   "execution_count": null,
   "metadata": {
    "collapsed": true
   },
   "outputs": [],
   "source": []
  }
 ],
 "metadata": {
  "kernelspec": {
   "display_name": "Python 3",
   "language": "python",
   "name": "python3"
  },
  "language_info": {
   "codemirror_mode": {
    "name": "ipython",
    "version": 3
   },
   "file_extension": ".py",
   "mimetype": "text/x-python",
   "name": "python",
   "nbconvert_exporter": "python",
   "pygments_lexer": "ipython3",
   "version": "3.6.3"
  }
 },
 "nbformat": 4,
 "nbformat_minor": 2
}
