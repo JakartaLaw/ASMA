{
 "cells": [
  {
   "cell_type": "code",
   "execution_count": 1,
   "metadata": {},
   "outputs": [],
   "source": [
    "import pandas as pd\n",
    "import numpy as np\n",
    "import matplotlib.pyplot as plt\n",
    "import seaborn as snb\n",
    "\n",
    "from modules.stock import Stock\n",
    "from modules.portfolio import Portfolio\n",
    "from modules.performance import Performance, CollectPerformance\n",
    "from modules.cleandata import CleanData\n",
    "\n",
    "%matplotlib inline "
   ]
  },
  {
   "cell_type": "code",
   "execution_count": 2,
   "metadata": {},
   "outputs": [],
   "source": [
    "stock = Stock()\n",
    "stock.composite_data('bmit', 'momit')\n",
    "stock.industry_adjusted_data('bmit')\n",
    "stock.industry_adjusted_data('momit')\n",
    "stock.composite_data('adjusted_bmit', 'adjusted_momit')"
   ]
  },
  {
   "cell_type": "code",
   "execution_count": 3,
   "metadata": {},
   "outputs": [
    {
     "name": "stdout",
     "output_type": "stream",
     "text": [
      "['bmit', 'iait', 'rit', 'momit', 'industry_momit', 'industry_bmit', 'bmit_momit', 'adjusted_bmit', 'adjusted_momit', 'adjusted_bmit_adjusted_momit']\n"
     ]
    }
   ],
   "source": [
    "print(stock)"
   ]
  },
  {
   "cell_type": "code",
   "execution_count": 4,
   "metadata": {
    "collapsed": true
   },
   "outputs": [],
   "source": [
    "s, d = stock.portfolio(kpi='adjusted_bmit_adjusted_momit', highlow='high', return_dummy=True)"
   ]
  },
  {
   "cell_type": "code",
   "execution_count": 5,
   "metadata": {},
   "outputs": [],
   "source": [
    "p = Portfolio.portfolio_return(s)\n",
    "perf0 = Performance(p, 12, d)\n",
    "p0 = perf0.get_performance('adjusted')"
   ]
  },
  {
   "cell_type": "code",
   "execution_count": 6,
   "metadata": {
    "collapsed": true
   },
   "outputs": [],
   "source": [
    "s, d = stock.portfolio(kpi='adjusted_bmit_adjusted_momit', highlow='low', return_dummy=True)"
   ]
  },
  {
   "cell_type": "code",
   "execution_count": 7,
   "metadata": {},
   "outputs": [],
   "source": [
    "p = Portfolio.portfolio_return(s)\n",
    "perf = Performance(p, 12, d)\n",
    "p1 = perf.get_performance('lars')"
   ]
  },
  {
   "cell_type": "code",
   "execution_count": 8,
   "metadata": {},
   "outputs": [],
   "source": [
    "q1_perf = CollectPerformance([p0, p1])"
   ]
  },
  {
   "cell_type": "code",
   "execution_count": 13,
   "metadata": {},
   "outputs": [],
   "source": [
    "q1_perf.performance_to_latex('q1_test')"
   ]
  },
  {
   "cell_type": "code",
   "execution_count": null,
   "metadata": {
    "collapsed": true
   },
   "outputs": [],
   "source": []
  }
 ],
 "metadata": {
  "kernelspec": {
   "display_name": "Python 3",
   "language": "python",
   "name": "python3"
  },
  "language_info": {
   "codemirror_mode": {
    "name": "ipython",
    "version": 3
   },
   "file_extension": ".py",
   "mimetype": "text/x-python",
   "name": "python",
   "nbconvert_exporter": "python",
   "pygments_lexer": "ipython3",
   "version": "3.6.3"
  }
 },
 "nbformat": 4,
 "nbformat_minor": 2
}
